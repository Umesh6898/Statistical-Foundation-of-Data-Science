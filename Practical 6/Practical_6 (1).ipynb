{
  "nbformat": 4,
  "nbformat_minor": 0,
  "metadata": {
    "colab": {
      "provenance": []
    },
    "kernelspec": {
      "name": "python3",
      "display_name": "Python 3"
    },
    "language_info": {
      "name": "python"
    }
  },
  "cells": [
    {
      "cell_type": "code",
      "execution_count": 10,
      "metadata": {
        "id": "aDRgZu-NeZlv",
        "colab": {
          "base_uri": "https://localhost:8080/"
        },
        "outputId": "eec4d126-3f08-4bdf-d1f3-e71669c91cd9"
      },
      "outputs": [
        {
          "output_type": "stream",
          "name": "stdout",
          "text": [
            "     prof  Gender  Age Tenure  Evaluation  Students  Beauty CourseLevel\n",
            "0  Prof71    Male   52    Yes        3.10        66     3.2       Upper\n",
            "1  Prof92    Male   35     No        4.55        44     3.8       Lower\n",
            "2   Prof8  Female   39     No        4.51        96     3.7       Upper\n",
            "3  Prof38  Female   59    Yes        4.41        33     4.3       Upper\n",
            "4  Prof57  Female   51    Yes        3.16        92     2.7       Upper\n"
          ]
        }
      ],
      "source": [
        "import pandas as pd\n",
        "import scipy.stats as stats\n",
        "\n",
        "df = pd.read_csv(\"/content/teachers_rating_data (1).csv\")\n",
        "\n",
        "print(df.head())"
      ]
    },
    {
      "cell_type": "markdown",
      "source": [
        "# Q1. T-Test: Using the teachers' rating data set, does gender affect teaching evaluation rates?"
      ],
      "metadata": {
        "id": "CvOWiVM57kWQ"
      }
    },
    {
      "cell_type": "code",
      "source": [
        "correlation, p_value = stats.pearsonr(df['Beauty'], df['Evaluation'])\n",
        "\n",
        "print(f\"Correlation between Beauty and Evaluation: {correlation:.4f}\")\n",
        "print(f\"P-value: {p_value:.4f}\")"
      ],
      "metadata": {
        "colab": {
          "base_uri": "https://localhost:8080/"
        },
        "id": "4H0SO8fA66VO",
        "outputId": "7af7392d-e448-4470-de10-0caab372f645"
      },
      "execution_count": 11,
      "outputs": [
        {
          "output_type": "stream",
          "name": "stdout",
          "text": [
            "Correlation between Beauty and Evaluation: 0.1043\n",
            "P-value: 0.2567\n"
          ]
        }
      ]
    },
    {
      "cell_type": "markdown",
      "source": [
        "Correlation Coefficient: 0.1043\n",
        "\n",
        "This value indicates a very weak positive linear relationship between Beauty and Evaluation.\n",
        "In practical terms, this suggests that as a professor's perceived beauty score increases, their evaluation score tends to increase slightly — but the effect is extremely small.\n",
        "\n",
        "P-value: 0.2567\n",
        "\n",
        "Since this p-value is greater than the standard significance level of 0.05, the correlation is not statistically significant.\n",
        "This means we fail to reject the null hypothesis, indicating that the weak positive relationship observed in the sample could easily be due to random variation and does not provide strong evidence of a real relationship in the overall population."
      ],
      "metadata": {
        "id": "cKzi3C4b7Xfn"
      }
    },
    {
      "cell_type": "markdown",
      "source": [
        "# Q2. ANOVA: Using the teachers' rating data set, does beauty score for instructors differ by age?"
      ],
      "metadata": {
        "id": "4k-Cv_9Q7taS"
      }
    },
    {
      "cell_type": "markdown",
      "source": [
        "## Objective:\n",
        "To check whether beauty scores differ significantly across different age groups.\n",
        "\n",
        "## Hypotheses:\n",
        "\n",
        "H₀: Mean beauty scores are equal across all age groups.\n",
        "\n",
        "H₁: At least one group has a different mean beauty score.\n",
        "\n",
        "## Test Used:\n",
        "One-way ANOVA"
      ],
      "metadata": {
        "id": "iaFn4vnS8UTl"
      }
    },
    {
      "cell_type": "code",
      "source": [
        "male_eval = df[df['Gender'] == 'Male']['Evaluation']\n",
        "female_eval = df[df['Gender'] == 'Female']['Evaluation']\n",
        "\n",
        "t_stat, p_value_gender = stats.ttest_ind(male_eval, female_eval)\n",
        "\n",
        "print(f\"T-statistic: {t_stat:.4f}\")\n",
        "print(f\"P-value: {p_value_gender:.4f}\")"
      ],
      "metadata": {
        "colab": {
          "base_uri": "https://localhost:8080/"
        },
        "id": "h3q1VYDB7HW6",
        "outputId": "b2674612-f6db-4d92-ad84-1a58d1adcb44"
      },
      "execution_count": 12,
      "outputs": [
        {
          "output_type": "stream",
          "name": "stdout",
          "text": [
            "T-statistic: -0.4462\n",
            "P-value: 0.6563\n"
          ]
        }
      ]
    },
    {
      "cell_type": "markdown",
      "source": [
        "T-statistic: -0.4462\n",
        "\n",
        "This negative value indicates that the average Evaluation score for male professors is slightly lower than the average score for female professors.\n",
        "However, the difference is very small and likely not meaningful.\n",
        "\n",
        "P-value: 0.6563\n",
        "\n",
        "Since this p-value is greater than the standard significance level of 0.05, the result is not statistically significant.\n",
        "We therefore fail to reject the null hypothesis, meaning there is no significant difference in the mean evaluation scores between male and female professors in this dataset."
      ],
      "metadata": {
        "id": "f-TH8aEq7zwB"
      }
    },
    {
      "cell_type": "markdown",
      "source": [
        "# Q3. Chi-square: Using the teachers' rating data set, is there an association between tenure and gender?"
      ],
      "metadata": {
        "id": "1ow15Xl58FDs"
      }
    },
    {
      "cell_type": "markdown",
      "source": [
        "# Objective:\n",
        "To test whether tenure and gender are independent or associated.\n",
        "\n",
        "# Hypotheses:\n",
        "\n",
        "H₀: Tenure and gender are independent.\n",
        "\n",
        "H₁: There is an association between tenure and gender.\n",
        "\n",
        "Test Used:\n",
        "Chi-square test of independence"
      ],
      "metadata": {
        "id": "-dXPO2rx8OFs"
      }
    },
    {
      "cell_type": "code",
      "source": [
        "contingency_table = pd.crosstab(df['Tenure'], df['Gender'])\n",
        "chi2, p, dof, expected = stats.chi2_contingency(contingency_table)\n",
        "print(\"Chi-square:\", chi2)\n",
        "print(\"P-Value:\", p)"
      ],
      "metadata": {
        "colab": {
          "base_uri": "https://localhost:8080/"
        },
        "id": "AV-UPr2A7zMR",
        "outputId": "df06eb93-90e0-42f0-b91c-5d083c360814"
      },
      "execution_count": 13,
      "outputs": [
        {
          "output_type": "stream",
          "name": "stdout",
          "text": [
            "Chi-square: 0.56705326333636\n",
            "P-Value: 0.45143225276739174\n"
          ]
        }
      ]
    },
    {
      "cell_type": "markdown",
      "source": [
        "# Interpretation:\n",
        "\n",
        "fail to reject H₀ → They are independent."
      ],
      "metadata": {
        "id": "UvBenR0Z8SN9"
      }
    },
    {
      "cell_type": "markdown",
      "source": [
        "# Q4. Correlation: Using the teachers' rating dataset, is teaching evaluation score correlated with beauty score?"
      ],
      "metadata": {
        "id": "VXaZOK7p8fbm"
      }
    },
    {
      "cell_type": "markdown",
      "source": [
        "# Objective:\n",
        "To test whether there is a linear relationship between evaluation and beauty.\n",
        "\n",
        "# Hypotheses:\n",
        "\n",
        "H₀: There is no correlation between evaluation and beauty.\n",
        "\n",
        "H₁: There is a correlation between evaluation and beauty.\n",
        "\n",
        "Test Used:\n",
        "Pearson Correlation Coefficient"
      ],
      "metadata": {
        "id": "G16KxS_N8irW"
      }
    },
    {
      "cell_type": "code",
      "source": [
        "tenured_eval = df[df['Tenure'] == 'Yes']['Evaluation']\n",
        "non_tenured_eval = df[df['Tenure'] == 'No']['Evaluation']\n",
        "\n",
        "t_stat_tenure, p_value_tenure = stats.ttest_ind(tenured_eval, non_tenured_eval)\n",
        "\n",
        "print(f\"T-statistic: {t_stat_tenure:.4f}\")\n",
        "print(f\"P-value: {p_value_tenure:.4f}\")"
      ],
      "metadata": {
        "colab": {
          "base_uri": "https://localhost:8080/"
        },
        "id": "eV2NaNfv8D1_",
        "outputId": "929167c7-1bef-4ef7-c0a2-d28621e5a473"
      },
      "execution_count": 14,
      "outputs": [
        {
          "output_type": "stream",
          "name": "stdout",
          "text": [
            "T-statistic: -1.0848\n",
            "P-value: 0.2802\n"
          ]
        }
      ]
    },
    {
      "cell_type": "markdown",
      "source": [
        "T-statistic: -1.0848\n",
        "\n",
        "This negative value indicates that the average Evaluation score for tenured professors is slightly lower than that of non-tenured professors. However, the difference in means is small and may not be meaningful.\n",
        "\n",
        "P-value: 0.2802\n",
        "\n",
        "Since this p-value is greater than the standard significance level of 0.05, the result is not statistically significant.\n",
        "Therefore, we fail to reject the null hypothesis, indicating that tenure status does not have a significant effect on teaching evaluation scores."
      ],
      "metadata": {
        "id": "-pvt0zbW86Ih"
      }
    },
    {
      "cell_type": "code",
      "source": [],
      "metadata": {
        "id": "37NNlIFfAsgq"
      },
      "execution_count": null,
      "outputs": []
    }
  ]
}