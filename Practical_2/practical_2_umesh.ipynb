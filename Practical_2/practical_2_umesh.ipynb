{
  "nbformat": 4,
  "nbformat_minor": 0,
  "metadata": {
    "colab": {
      "provenance": []
    },
    "kernelspec": {
      "name": "python3",
      "display_name": "Python 3"
    },
    "language_info": {
      "name": "python"
    }
  },
  "cells": [
    {
      "cell_type": "code",
      "execution_count": 1,
      "metadata": {
        "colab": {
          "base_uri": "https://localhost:8080/"
        },
        "id": "HNF45KZ05GXt",
        "outputId": "96b038d6-b131-4bba-be3d-7b060a9ca45d"
      },
      "outputs": [
        {
          "output_type": "stream",
          "name": "stdout",
          "text": [
            "     prof  Gender  Age Tenure  Evaluation  Students  Beauty CourseLevel\n",
            "0  Prof71    Male   52    Yes        3.10        66     3.2       Upper\n",
            "1  Prof92    Male   35     No        4.55        44     3.8       Lower\n",
            "2   Prof8  Female   39     No        4.51        96     3.7       Upper\n",
            "3  Prof38  Female   59    Yes        4.41        33     4.3       Upper\n",
            "4  Prof57  Female   51    Yes        3.16        92     2.7       Upper\n",
            "Total rows: 120\n"
          ]
        }
      ],
      "source": [
        "import pandas as pd\n",
        "import numpy as np\n",
        "\n",
        "np.random.seed(40)\n",
        "\n",
        "n = 120\n",
        "prof_ids = np.random.choice([f'Prof{i}' for i in range(1, 101)], size=n)\n",
        "genders = np.random.choice(['Male', 'Female'], size=n)\n",
        "ages = np.random.randint(28, 60, size=n)\n",
        "tenure = np.random.choice(['Yes', 'No'], size=n, p=[0.5, 0.5])\n",
        "evaluation = np.round(np.random.uniform(3.0, 5.0, size=n), 2)\n",
        "students = np.random.randint(30, 100, size=n)\n",
        "beauty = np.round(np.random.uniform(2.5, 5.0, size=n), 1)\n",
        "course_level = np.random.choice(['Lower', 'Upper'], size=n)\n",
        "\n",
        "df = pd.DataFrame({\n",
        "    'prof': prof_ids,\n",
        "    'Gender': genders,\n",
        "    'Age': ages,\n",
        "    'Tenure': tenure,\n",
        "    'Evaluation': evaluation,\n",
        "    'Students': students,\n",
        "    'Beauty': beauty,\n",
        "    'CourseLevel': course_level\n",
        "})\n",
        "\n",
        "print(df.head())\n",
        "print(f\"Total rows: {len(df)}\")\n"
      ]
    },
    {
      "cell_type": "code",
      "metadata": {
        "colab": {
          "base_uri": "https://localhost:8080/"
        },
        "id": "20e60f68",
        "outputId": "f0b84473-b54b-40b4-a311-b25b2b84f605"
      },
      "source": [
        "# Specify the path to save the CSV file\n",
        "csv_file_path = 'teachers_rating_data.csv'\n",
        "\n",
        "# Export the DataFrame to a CSV file\n",
        "df.to_csv(csv_file_path, index=False)\n",
        "\n",
        "print(f\"DataFrame successfully exported to {csv_file_path}\")"
      ],
      "execution_count": 2,
      "outputs": [
        {
          "output_type": "stream",
          "name": "stdout",
          "text": [
            "DataFrame successfully exported to teachers_rating_data.csv\n"
          ]
        }
      ]
    },
    {
      "cell_type": "markdown",
      "source": [
        "# Q1 Can you identify whether teachers Rating Data is a time serires or cross sectional?\n",
        "Ans. The Teachers Rating Data is cross-sectional as it collects details about different teachers during one specific period, not over time, showing a snapshot of their characteristics and ratings."
      ],
      "metadata": {
        "id": "FmhJgewJ5h-Q"
      }
    },
    {
      "cell_type": "markdown",
      "source": [
        "# Q2. Find the mean, median, minimum and maximum values for the students."
      ],
      "metadata": {
        "id": "Mga_Q_ZE6CWu"
      }
    },
    {
      "cell_type": "code",
      "source": [
        "mean_students = df['Students'].mean()\n",
        "median_students = df['Students'].median()\n",
        "min_students = df['Students'].min()\n",
        "max_students = df['Students'].max()\n",
        "\n",
        "print(\"Mean:\", mean_students)\n",
        "print(\"Median:\", median_students)\n",
        "print(\"Minimum:\", min_students)\n",
        "print(\"Maximum:\", max_students)\n"
      ],
      "metadata": {
        "colab": {
          "base_uri": "https://localhost:8080/"
        },
        "id": "WAfd1SGE6J8n",
        "outputId": "47167ae1-2567-43b8-e72e-5eaf5078446a"
      },
      "execution_count": 3,
      "outputs": [
        {
          "output_type": "stream",
          "name": "stdout",
          "text": [
            "Mean: 63.11666666666667\n",
            "Median: 62.0\n",
            "Minimum: 30\n",
            "Maximum: 99\n"
          ]
        }
      ]
    },
    {
      "cell_type": "markdown",
      "source": [
        "# Q3. Produce the descriptive statistics table."
      ],
      "metadata": {
        "id": "thYp1Hwz6O8c"
      }
    },
    {
      "cell_type": "code",
      "source": [
        "desc = df.describe()\n",
        "print(desc)\n"
      ],
      "metadata": {
        "colab": {
          "base_uri": "https://localhost:8080/"
        },
        "id": "Wdcd_X286Kmd",
        "outputId": "b019ac49-4e0b-423d-b0a5-48ff915c9e17"
      },
      "execution_count": 4,
      "outputs": [
        {
          "output_type": "stream",
          "name": "stdout",
          "text": [
            "              Age  Evaluation    Students      Beauty\n",
            "count  120.000000  120.000000  120.000000  120.000000\n",
            "mean    45.850000    3.983083   63.116667    3.874167\n",
            "std      8.733833    0.576247   19.898137    0.741393\n",
            "min     28.000000    3.020000   30.000000    2.600000\n",
            "25%     39.000000    3.537500   46.750000    3.300000\n",
            "50%     45.500000    4.015000   62.000000    3.900000\n",
            "75%     53.000000    4.490000   80.250000    4.600000\n",
            "max     59.000000    5.000000   99.000000    5.000000\n"
          ]
        }
      ]
    },
    {
      "cell_type": "markdown",
      "source": [
        "# Q4. Create a histogram of the beauty variable and breifly comment on the distribution of the data."
      ],
      "metadata": {
        "id": "4iYbzG4564yG"
      }
    },
    {
      "cell_type": "code",
      "source": [
        "import matplotlib.pyplot as plt\n",
        "\n",
        "plt.hist(df['Beauty'], bins=8, color='skyblue', edgecolor='black')\n",
        "plt.title('Histogram of Beauty Scores')\n",
        "plt.xlabel('Beauty Score')\n",
        "plt.ylabel('Frequency')\n",
        "plt.grid(axis='y', alpha=0.3)\n",
        "plt.show()\n"
      ],
      "metadata": {
        "colab": {
          "base_uri": "https://localhost:8080/",
          "height": 472
        },
        "id": "rlABALoI6xcL",
        "outputId": "d85186cf-5e6d-42f8-a85f-a66e3be31e95"
      },
      "execution_count": 5,
      "outputs": [
        {
          "output_type": "display_data",
          "data": {
            "text/plain": [
              "<Figure size 640x480 with 1 Axes>"
            ],
            "image/png": "[encoded data removed]"
          },
          "metadata": {}
        }
      ]
    },
    {
      "cell_type": "markdown",
      "source": [
        "The beauty scores range from about 2.7 to 4.8.\n",
        "The histogram appears slightly right-skewed, indicating most teachers have higher beauty scores (around 3.5–4.5), with fewer below 3.\n",
        "The distribution is fairly balanced and lacks extreme outliers, though it’s somewhat concentrated toward the higher end of the scale."
      ],
      "metadata": {
        "id": "EE0Mz6cw7KYU"
      }
    },
    {
      "cell_type": "markdown",
      "source": [
        "# Q5. Does average beauty score differ by gender? Produce the means and standard deviations for both male and female instructors."
      ],
      "metadata": {
        "id": "rNqaOkJ97qTC"
      }
    },
    {
      "cell_type": "code",
      "source": [
        "beauty_by_gender = df.groupby('Gender')['Beauty'].agg(['mean', 'std', 'count'])\n",
        "print(beauty_by_gender)\n"
      ],
      "metadata": {
        "colab": {
          "base_uri": "https://localhost:8080/"
        },
        "id": "wZn1YAdH7wCf",
        "outputId": "9400c76b-c7a4-424c-bab9-498d9cd40532"
      },
      "execution_count": 6,
      "outputs": [
        {
          "output_type": "stream",
          "name": "stdout",
          "text": [
            "            mean       std  count\n",
            "Gender                           \n",
            "Female  3.867164  0.723499     67\n",
            "Male    3.883019  0.770299     53\n"
          ]
        }
      ]
    },
    {
      "cell_type": "markdown",
      "source": [
        "Female instructors have a slightly lower average beauty score (3.87) compared to male instructors (3.88).\n",
        "\n",
        "The standard deviation is marginally higher for males (0.77), showing slightly more variation in their scores.\n",
        "\n",
        "Overall, beauty ratings are fairly consistent across genders, with minimal differences in averages and spread."
      ],
      "metadata": {
        "id": "ccwRl3Cl73Do"
      }
    },
    {
      "cell_type": "markdown",
      "source": [
        "# Q6. Calculate the percentage of males and females that are tenured professors. Will you say that tenure status differ by gender?"
      ],
      "metadata": {
        "id": "NzDfu6Qs79e6"
      }
    },
    {
      "cell_type": "code",
      "source": [
        "tenure_by_gender = df.groupby('Gender')['Tenure'].value_counts(normalize=True).unstack() * 100\n",
        "print(\"Percentage of Tenured Professors by Gender (%)\")\n",
        "print(tenure_by_gender)\n"
      ],
      "metadata": {
        "colab": {
          "base_uri": "https://localhost:8080/"
        },
        "id": "Sfy90Rqn8Otj",
        "outputId": "9f521178-6066-4b55-d17e-0f30c0a9fd87"
      },
      "execution_count": 7,
      "outputs": [
        {
          "output_type": "stream",
          "name": "stdout",
          "text": [
            "Percentage of Tenured Professors by Gender (%)\n",
            "Tenure         No        Yes\n",
            "Gender                      \n",
            "Female  46.268657  53.731343\n",
            "Male    37.735849  62.264151\n"
          ]
        }
      ]
    },
    {
      "cell_type": "code",
      "source": [],
      "metadata": {
        "id": "8s3fRJo_8SP0"
      },
      "execution_count": null,
      "outputs": []
    }
  ]
}